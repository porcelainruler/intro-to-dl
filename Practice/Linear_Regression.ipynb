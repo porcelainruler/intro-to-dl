{
  "nbformat": 4,
  "nbformat_minor": 0,
  "metadata": {
    "colab": {
      "name": "Linear_Regression.ipynb",
      "provenance": [],
      "authorship_tag": "ABX9TyNH1rSRqlrB3dw93MLgVCW+",
      "include_colab_link": true
    },
    "kernelspec": {
      "name": "python3",
      "display_name": "Python 3"
    }
  },
  "cells": [
    {
      "cell_type": "markdown",
      "metadata": {
        "id": "view-in-github",
        "colab_type": "text"
      },
      "source": [
        "<a href=\"https://colab.research.google.com/github/porcelainruler/intro-to-dl/blob/master/Practice/Linear_Regression.ipynb\" target=\"_parent\"><img src=\"https://colab.research.google.com/assets/colab-badge.svg\" alt=\"Open In Colab\"/></a>"
      ]
    },
    {
      "cell_type": "code",
      "metadata": {
        "id": "1Gyib-6UbpLU",
        "colab_type": "code",
        "colab": {
          "base_uri": "https://localhost:8080/",
          "height": 34
        },
        "outputId": "6bb3a861-4052-4c1d-a044-235f84473c83"
      },
      "source": [
        "import tensorflow as tf;\n",
        "%tensorflow_version 2.x\n",
        "\n",
        "import numpy as np;"
      ],
      "execution_count": 2,
      "outputs": [
        {
          "output_type": "stream",
          "text": [
            "TensorFlow is already loaded. Please restart the runtime to change versions.\n"
          ],
          "name": "stdout"
        }
      ]
    },
    {
      "cell_type": "code",
      "metadata": {
        "id": "sHIRSXNXiqob",
        "colab_type": "code",
        "colab": {
          "base_uri": "https://localhost:8080/",
          "height": 185
        },
        "outputId": "d912b8ee-1cb1-4ed3-ebff-e11655f3d888"
      },
      "source": [
        "N = 1000;\n",
        "D = 3;\n",
        "\n",
        "x = np.random.random((N, D));\n",
        "w = np.random.random((D, 1));\n",
        "\n",
        "# 2nd part introduces NOISE so as to make it as real data\n",
        "y = x@w + np.random.randn(N, 1) * 0.20             # Linear Regression Equation\n",
        "\n",
        "tf.reset_default_graph();\n",
        "\n",
        "print(x);\n",
        "print(w);\n",
        "# print(y);"
      ],
      "execution_count": 4,
      "outputs": [
        {
          "output_type": "stream",
          "text": [
            "[[0.21831256 0.33613848 0.2066049 ]\n",
            " [0.87703119 0.15238611 0.08458685]\n",
            " [0.28767065 0.31763691 0.311852  ]\n",
            " ...\n",
            " [0.40865052 0.44940294 0.46837451]\n",
            " [0.93844284 0.22702981 0.55641361]\n",
            " [0.06041591 0.16160346 0.66281878]]\n",
            "[[0.15124757]\n",
            " [0.90585536]\n",
            " [0.054317  ]]\n"
          ],
          "name": "stdout"
        }
      ]
    },
    {
      "cell_type": "code",
      "metadata": {
        "id": "RvRaa3ahmRjM",
        "colab_type": "code",
        "colab": {
          "base_uri": "https://localhost:8080/",
          "height": 87
        },
        "outputId": "60756eff-d2ce-46fe-ddae-5521cdee080d"
      },
      "source": [
        "# Placeholder Define\n",
        "features = tf.placeholder(tf.float32, shape = (None, D));\n",
        "target = tf.placeholder(tf.float32, shape = (None, 1));\n",
        "\n",
        "# Making Prediction\n",
        "weight = tf.get_variable(\"w\", shape = (D, 1), dtype = tf.float32);\n",
        "prediction = features @ weight;\n",
        "\n",
        "# Loss Function\n",
        "loss = tf.reduce_mean((prediction - target) ** 2);\n",
        "\n",
        "# Optimzer\n",
        "optimiser = tf.train.GradientDescentOptimizer(0.1);\n",
        "step = optimiser.minimize(loss);"
      ],
      "execution_count": 6,
      "outputs": [
        {
          "output_type": "stream",
          "text": [
            "WARNING:tensorflow:From /usr/local/lib/python3.6/dist-packages/tensorflow_core/python/ops/math_grad.py:1375: where (from tensorflow.python.ops.array_ops) is deprecated and will be removed in a future version.\n",
            "Instructions for updating:\n",
            "Use tf.where in 2.0, which has the same broadcast rule as np.where\n"
          ],
          "name": "stdout"
        }
      ]
    },
    {
      "cell_type": "code",
      "metadata": {
        "id": "1zHM2W_rpfxU",
        "colab_type": "code",
        "colab": {
          "base_uri": "https://localhost:8080/",
          "height": 188
        },
        "outputId": "93deea71-c492-4653-b9ab-a28c2d9e2378"
      },
      "source": [
        "# Solving Linear Regrssion \n",
        "s = tf.InteractiveSession()\n",
        "\n",
        "# If Training takes a lot of time use checkpointing ans save results at regular intervals\n",
        "saver = tf.train.Saver(tf.trainable_variables())\n",
        "s.run(tf.global_variables_initializer());\n",
        "\n",
        "\n",
        "# Running 300 interations\n",
        "for i in range(300) :\n",
        "  _, curr_loss, curr_weight = s.run([step, loss, weight], feed_dict = {features:x, target:y});\n",
        "\n",
        "  if(i % 50 == 0):\n",
        "    # saver.save(s, \"logs/2/model.ckpt\", global_step = i)                             **Saving at each 50 iterations \n",
        "    print(loss);\n",
        "\n",
        "# Checkpoint Restoraion by                          || We ahave to define the same graph before restoring checkpoint\n",
        "'''    saver.restore(\"logs/2/model.ckpt\");    '''\n"
      ],
      "execution_count": 11,
      "outputs": [
        {
          "output_type": "stream",
          "text": [
            "/usr/local/lib/python3.6/dist-packages/tensorflow_core/python/client/session.py:1750: UserWarning: An interactive session is already active. This can cause out-of-memory errors in some cases. You must explicitly call `InteractiveSession.close()` to release resources held by the other session(s).\n",
            "  warnings.warn('An interactive session is already active. This can '\n"
          ],
          "name": "stderr"
        },
        {
          "output_type": "stream",
          "text": [
            "Tensor(\"Mean:0\", shape=(), dtype=float32)\n",
            "Tensor(\"Mean:0\", shape=(), dtype=float32)\n",
            "Tensor(\"Mean:0\", shape=(), dtype=float32)\n",
            "Tensor(\"Mean:0\", shape=(), dtype=float32)\n",
            "Tensor(\"Mean:0\", shape=(), dtype=float32)\n",
            "Tensor(\"Mean:0\", shape=(), dtype=float32)\n"
          ],
          "name": "stdout"
        },
        {
          "output_type": "execute_result",
          "data": {
            "text/plain": [
              "'    saver.restore(\"logs/2/model.ckpt\");    '"
            ]
          },
          "metadata": {
            "tags": []
          },
          "execution_count": 11
        }
      ]
    }
  ]
}